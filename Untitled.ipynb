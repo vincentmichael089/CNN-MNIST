{
 "cells": [
  {
   "cell_type": "code",
   "execution_count": 1,
   "metadata": {
    "colab": {
     "base_uri": "https://localhost:8080/",
     "height": 34
    },
    "colab_type": "code",
    "id": "wPBleB3tAhCW",
    "outputId": "04f07d2b-5287-47a7-f4f2-862c834bd607"
   },
   "outputs": [
    {
     "name": "stderr",
     "output_type": "stream",
     "text": [
      "Using TensorFlow backend.\n"
     ]
    }
   ],
   "source": [
    "from keras.models import Sequential\n",
    "from keras.layers import Dense, Dropout, Activation, Flatten\n",
    "from keras.layers import Conv2D, MaxPooling2D\n",
    "from keras.utils import np_utils"
   ]
  },
  {
   "cell_type": "code",
   "execution_count": 2,
   "metadata": {
    "colab": {
     "base_uri": "https://localhost:8080/",
     "height": 52
    },
    "colab_type": "code",
    "id": "z3Y8n-I6AhCb",
    "outputId": "ced07b3c-2445-419d-ccae-f027f00a8618"
   },
   "outputs": [
    {
     "name": "stdout",
     "output_type": "stream",
     "text": [
      "Downloading data from https://s3.amazonaws.com/img-datasets/mnist.npz\n",
      "11493376/11490434 [==============================] - 1s 0us/step\n"
     ]
    }
   ],
   "source": [
    "#import MNIST data, load train and test data\n",
    "from keras.datasets.mnist import load_data\n",
    "(train_digits, train_labels), (test_digits, test_labels) = load_data()"
   ]
  },
  {
   "cell_type": "code",
   "execution_count": 0,
   "metadata": {
    "colab": {},
    "colab_type": "code",
    "id": "-tmJyC1tAhCf"
   },
   "outputs": [],
   "source": [
    "#define batch size, class, epochs, and image dimension\n",
    "batch_size = 128\n",
    "num_classes = 10\n",
    "epochs = 10\n",
    "img_rows, img_cols = 28, 28"
   ]
  },
  {
   "cell_type": "code",
   "execution_count": 5,
   "metadata": {
    "colab": {
     "base_uri": "https://localhost:8080/",
     "height": 334
    },
    "colab_type": "code",
    "id": "IyZ8_mYhAhCk",
    "outputId": "1e50b57e-e2e2-4d72-a861-69107eb661c6"
   },
   "outputs": [
    {
     "data": {
      "image/png": "[encoded data removed]",
      "text/plain": [
       "<Figure size 864x360 with 10 Axes>"
      ]
     },
     "metadata": {
      "tags": []
     },
     "output_type": "display_data"
    }
   ],
   "source": [
    "#display 10 random image of data\n",
    "import matplotlib.pyplot as plt\n",
    "import numpy as np\n",
    "np.random.seed(100)\n",
    "\n",
    "#pick 10 image randomly from train_digits\n",
    "rand_10 = np.random.randint(0, train_digits.shape[0],10) \n",
    "sample_digits = train_digits[rand_10] \n",
    "sample_labels = train_labels[rand_10]\n",
    "\n",
    "#show sample in 2x5 format\n",
    "num_rows, num_cols = 2, 5 \n",
    "f, ax = plt.subplots(num_rows, num_cols, figsize=(12,5),\n",
    "                     gridspec_kw={'wspace':0.03, 'hspace':0.25}, \n",
    "                     squeeze=True)\n",
    "\n",
    "for r in range(num_rows):\n",
    "    for c in range(num_cols):\n",
    "        image_index = r * 5 + c\n",
    "        ax[r,c].axis(\"off\")\n",
    "        ax[r,c].imshow(sample_digits[image_index], cmap='gray')\n",
    "        ax[r,c].set_title('Label: %d' % sample_labels[image_index])\n",
    "plt.show()"
   ]
  },
  {
   "cell_type": "code",
   "execution_count": 6,
   "metadata": {
    "colab": {
     "base_uri": "https://localhost:8080/",
     "height": 70
    },
    "colab_type": "code",
    "id": "7cwc_OSwAhCr",
    "outputId": "b52b9052-4261-4b2d-f3d0-c9273cd67c2d"
   },
   "outputs": [
    {
     "name": "stdout",
     "output_type": "stream",
     "text": [
      "img height: 28  img width: 28  channels: 1\n",
      "numbers of training data: 60000  numbers of testing data: 10000\n"
     ]
    },
    {
     "data": {
      "text/plain": [
       "((60000, 10), (10000, 10))"
      ]
     },
     "execution_count": 6,
     "metadata": {
      "tags": []
     },
     "output_type": "execute_result"
    }
   ],
   "source": [
    "#pre-processing\n",
    "image_height = train_digits.shape[1]  \n",
    "image_width = train_digits.shape[2]\n",
    "num_channels = 1 \n",
    "print(\"img height:\",image_height, \" img width:\",image_width,\" channels:\",num_channels)\n",
    "\n",
    "#reshape image data to 28x28 grayscale picture\n",
    "train_data = np.reshape(train_digits, (train_digits.shape[0], image_height, image_width, num_channels))\n",
    "test_data = np.reshape(test_digits, (test_digits.shape[0],image_height, image_width, num_channels))\n",
    "print(\"numbers of training data:\",train_data.shape[0],\" numbers of testing data:\",test_data.shape[0])\n",
    "\n",
    "# re-scale the image data so every pixels have values between (0.0,1.0]\n",
    "train_data = train_data.astype('float32') / 255.\n",
    "test_data = test_data.astype('float32') / 255.\n",
    "\n",
    "#one-hot encoding for 10 class\n",
    "from keras.utils import to_categorical\n",
    "train_labels_cat = to_categorical(train_labels,num_classes)\n",
    "test_labels_cat = to_categorical(test_labels,num_classes)\n",
    "train_labels_cat.shape, test_labels_cat.shape"
   ]
  },
  {
   "cell_type": "code",
   "execution_count": 0,
   "metadata": {
    "colab": {},
    "colab_type": "code",
    "id": "6ve4V320AhCx"
   },
   "outputs": [],
   "source": [
    "#shuffle train data\n",
    "for _ in range(5): \n",
    "    indexes = np.random.permutation(len(train_data))\n",
    "\n",
    "train_data = train_data[indexes]\n",
    "train_labels_cat = train_labels_cat[indexes]\n",
    "\n",
    "# take 10 percent data training for validation\n",
    "val_perc = 0.10 \n",
    "val_count = int(val_perc * len(train_data))\n",
    "\n",
    "val_data = train_data[:val_count,:]\n",
    "val_labels_cat = train_labels_cat[:val_count,:]\n",
    "train_data2 = train_data[val_count:,:]\n",
    "train_labels_cat2 = train_labels_cat[val_count:,:]"
   ]
  },
  {
   "cell_type": "code",
   "execution_count": 0,
   "metadata": {
    "colab": {},
    "colab_type": "code",
    "id": "EzGWLfqOAhC0"
   },
   "outputs": [],
   "source": [
    "#CNN\n",
    "model = Sequential()\n",
    "#convolutional layer and pooling layer\n",
    "model.add(Conv2D(32, kernel_size=(3, 3), activation='relu', padding=\"same\" ,input_shape=(image_height, image_width, num_channels))) \n",
    "model.add(MaxPooling2D(pool_size=(2,2)))\n",
    "model.add(Conv2D(filters=64, kernel_size=(3,3), activation='relu', padding='same'))\n",
    "model.add(MaxPooling2D(pool_size=(2,2)))\n",
    "model.add(Dropout(0.25))\n",
    "model.add(Flatten())\n",
    "model.add(Dense(128, activation='relu'))\n",
    "model.add(Dropout(0.5))\n",
    "\n",
    "#output layer\n",
    "model.add(Dense(num_classes, activation='softmax'))\n",
    "\n",
    "#Optimizer & categorical_crossentropy loss function\n",
    "model.compile(loss='categorical_crossentropy',optimizer='adam',metrics=['accuracy'])"
   ]
  },
  {
   "cell_type": "code",
   "execution_count": 10,
   "metadata": {
    "colab": {
     "base_uri": "https://localhost:8080/",
     "height": 481
    },
    "colab_type": "code",
    "id": "-iYHhYu4AhC4",
    "outputId": "f011201e-32bc-46c1-8ecb-d56029e90217"
   },
   "outputs": [
    {
     "name": "stdout",
     "output_type": "stream",
     "text": [
      "WARNING:tensorflow:From /usr/local/lib/python3.6/dist-packages/tensorflow/python/ops/math_ops.py:3066: to_int32 (from tensorflow.python.ops.math_ops) is deprecated and will be removed in a future version.\n",
      "Instructions for updating:\n",
      "Use tf.cast instead.\n",
      "Train on 54000 samples, validate on 6000 samples\n",
      "Epoch 1/10\n",
      "54000/54000 [==============================] - 72s 1ms/step - loss: 0.3081 - acc: 0.9032 - val_loss: 0.0849 - val_acc: 0.9723\n",
      "Epoch 2/10\n",
      "54000/54000 [==============================] - 72s 1ms/step - loss: 0.1037 - acc: 0.9693 - val_loss: 0.0589 - val_acc: 0.9822\n",
      "Epoch 3/10\n",
      "54000/54000 [==============================] - 71s 1ms/step - loss: 0.0773 - acc: 0.9766 - val_loss: 0.0520 - val_acc: 0.9828\n",
      "Epoch 4/10\n",
      "54000/54000 [==============================] - 72s 1ms/step - loss: 0.0617 - acc: 0.9813 - val_loss: 0.0418 - val_acc: 0.9872\n",
      "Epoch 5/10\n",
      "54000/54000 [==============================] - 72s 1ms/step - loss: 0.0539 - acc: 0.9836 - val_loss: 0.0428 - val_acc: 0.9858\n",
      "Epoch 6/10\n",
      "54000/54000 [==============================] - 71s 1ms/step - loss: 0.0486 - acc: 0.9850 - val_loss: 0.0399 - val_acc: 0.9878\n",
      "Epoch 7/10\n",
      "54000/54000 [==============================] - 72s 1ms/step - loss: 0.0423 - acc: 0.9871 - val_loss: 0.0330 - val_acc: 0.9887\n",
      "Epoch 8/10\n",
      "54000/54000 [==============================] - 71s 1ms/step - loss: 0.0382 - acc: 0.9881 - val_loss: 0.0359 - val_acc: 0.9898\n",
      "Epoch 9/10\n",
      "54000/54000 [==============================] - 72s 1ms/step - loss: 0.0353 - acc: 0.9889 - val_loss: 0.0324 - val_acc: 0.9913\n",
      "Epoch 10/10\n",
      "54000/54000 [==============================] - 72s 1ms/step - loss: 0.0314 - acc: 0.9900 - val_loss: 0.0402 - val_acc: 0.9890\n"
     ]
    },
    {
     "data": {
      "text/plain": [
       "<keras.callbacks.History at 0x7f279b783e48>"
      ]
     },
     "execution_count": 10,
     "metadata": {
      "tags": []
     },
     "output_type": "execute_result"
    }
   ],
   "source": [
    "#train the model\n",
    "model.fit(train_data2, train_labels_cat2,\n",
    "          batch_size=batch_size,\n",
    "          epochs=epochs,\n",
    "          verbose=1,\n",
    "          validation_data=(val_data, val_labels_cat))"
   ]
  },
  {
   "cell_type": "code",
   "execution_count": 0,
   "metadata": {
    "colab": {},
    "colab_type": "code",
    "id": "O9oAEjPdAhC9"
   },
   "outputs": [],
   "source": []
  }
 ],
 "metadata": {
  "colab": {
   "name": "Untitled.ipynb",
   "provenance": [],
   "version": "0.3.2"
  },
  "kernelspec": {
   "display_name": "Python 3",
   "language": "python",
   "name": "python3"
  },
  "language_info": {
   "codemirror_mode": {
    "name": "ipython",
    "version": 3
   },
   "file_extension": ".py",
   "mimetype": "text/x-python",
   "name": "python",
   "nbconvert_exporter": "python",
   "pygments_lexer": "ipython3",
   "version": "3.6.8"
  }
 },
 "nbformat": 4,
 "nbformat_minor": 1
}
